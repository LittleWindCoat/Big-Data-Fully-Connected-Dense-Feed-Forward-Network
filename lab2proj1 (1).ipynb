{
  "nbformat": 4,
  "nbformat_minor": 0,
  "metadata": {
    "colab": {
      "name": "lab2proj1.ipynb",
      "provenance": []
    },
    "kernelspec": {
      "name": "python3",
      "display_name": "Python 3"
    },
    "language_info": {
      "name": "python"
    }
  },
  "cells": [
    {
      "cell_type": "code",
      "metadata": {
        "colab": {
          "base_uri": "https://localhost:8080/"
        },
        "id": "ZvgPitx0o08A",
        "outputId": "2ee5bb36-e316-4c56-81a0-0bafe38056d9"
      },
      "source": [
        "from google.colab import files, drive\n",
        "drive.mount('/content/drive')"
      ],
      "execution_count": 2,
      "outputs": [
        {
          "output_type": "stream",
          "name": "stdout",
          "text": [
            "Mounted at /content/drive\n"
          ]
        }
      ]
    },
    {
      "cell_type": "markdown",
      "metadata": {
        "id": "wCqgkMU1tem_"
      },
      "source": [
        "#1. Load Data\n",
        "In this lab, we are going to use the Pima Indians onset of diabetes dataset. It describes patient medical record data for Pima Indians ad whether they had an onset of diabetes within five years. \n",
        "\n",
        "As such, it is a binary classification problem (onset of diabetes as 1 or as not as 0). All of the input variables that descrbe each patient are numerical. This makes it easy to use directly with nural networks that expect numerical input and output values, and ideal for our first neural network in Keras. \n"
      ]
    },
    {
      "cell_type": "code",
      "metadata": {
        "id": "9c4XQHA2pgYv"
      },
      "source": [
        "from keras.models import Sequential\n",
        "from keras.layers import Dense\n",
        "import numpy \n",
        "import warnings\n",
        "warnings.filterwarnings(\"ignore\")\n",
        "numpy.random.seed(8)\n",
        "\n",
        "\n",
        "# We can load the file directly using the Numpy function loadtxt(). \n",
        "dataset = numpy.loadtxt(\"/content/drive/MyDrive/lab2/pima-indians-diabetes.csv\",delimiter=\",\")\n",
        "\n",
        "# There are eight input variables and one output vairables (the last column). \n",
        "# Once loaded we can split the dataset into input variables (X) and the output class varible (Y)\n",
        "X = dataset[:,0:8]\n",
        "Y = dataset [:,8]"
      ],
      "execution_count": 3,
      "outputs": []
    },
    {
      "cell_type": "markdown",
      "metadata": {
        "id": "PrCOs5OTtswt"
      },
      "source": [
        "#2. Define Model\n",
        "Models in Keras are defined as a sequence of layers. In this lab, we will use a fully-connected network structure."
      ]
    },
    {
      "cell_type": "code",
      "metadata": {
        "id": "2qVM7v0VtwNB"
      },
      "source": [
        "model = Sequential()\n",
        "model.add(Dense(12,input_dim=8, activation='relu'))\n",
        "model.add(Dense(8,activation='relu'))\n",
        "model.add(Dense(1,activation='sigmoid'))"
      ],
      "execution_count": 4,
      "outputs": []
    },
    {
      "cell_type": "markdown",
      "metadata": {
        "id": "Bjn8-4tQt1AW"
      },
      "source": [
        "#3. Compile Model\n",
        "Now that the model is defined, we can compile it. "
      ]
    },
    {
      "cell_type": "code",
      "metadata": {
        "id": "LyJdeImBt3ld"
      },
      "source": [
        "model.compile(loss='binary_crossentropy',optimizer='adam',metrics=['accuracy'])"
      ],
      "execution_count": 5,
      "outputs": []
    },
    {
      "cell_type": "markdown",
      "metadata": {
        "id": "Be-sZqb6t8qY"
      },
      "source": [
        "#4. Fit Model\n",
        "We have defined our model and compiled it ready for efficient computation. Now it is time to execute the model on somce data"
      ]
    },
    {
      "cell_type": "code",
      "metadata": {
        "colab": {
          "base_uri": "https://localhost:8080/"
        },
        "id": "TY4hD2zkt_NX",
        "outputId": "c3e5dc9d-8c73-4837-8496-87a608e06268"
      },
      "source": [
        "model.fit(train_X,train_Y, epochs=150, batch_size=10)"
      ],
      "execution_count": null,
      "outputs": [
        {
          "output_type": "stream",
          "name": "stdout",
          "text": [
            "Epoch 1/150\n",
            "62/62 [==============================] - 0s 2ms/step - loss: 0.3936 - accuracy: 0.8013\n",
            "Epoch 2/150\n",
            "62/62 [==============================] - 0s 2ms/step - loss: 0.4048 - accuracy: 0.7948\n",
            "Epoch 3/150\n",
            "62/62 [==============================] - 0s 2ms/step - loss: 0.4015 - accuracy: 0.7964\n",
            "Epoch 4/150\n",
            "62/62 [==============================] - 0s 2ms/step - loss: 0.3976 - accuracy: 0.8160\n",
            "Epoch 5/150\n",
            "62/62 [==============================] - 0s 2ms/step - loss: 0.4060 - accuracy: 0.8029\n",
            "Epoch 6/150\n",
            "62/62 [==============================] - 0s 2ms/step - loss: 0.3991 - accuracy: 0.8029\n",
            "Epoch 7/150\n",
            "62/62 [==============================] - 0s 1ms/step - loss: 0.4015 - accuracy: 0.8046\n",
            "Epoch 8/150\n",
            "62/62 [==============================] - 0s 2ms/step - loss: 0.4066 - accuracy: 0.8111\n",
            "Epoch 9/150\n",
            "62/62 [==============================] - 0s 2ms/step - loss: 0.4014 - accuracy: 0.7980\n",
            "Epoch 10/150\n",
            "62/62 [==============================] - 0s 1ms/step - loss: 0.3979 - accuracy: 0.8192\n",
            "Epoch 11/150\n",
            "62/62 [==============================] - 0s 1ms/step - loss: 0.3956 - accuracy: 0.8013\n",
            "Epoch 12/150\n",
            "62/62 [==============================] - 0s 1ms/step - loss: 0.4012 - accuracy: 0.8111\n",
            "Epoch 13/150\n",
            "62/62 [==============================] - 0s 2ms/step - loss: 0.3903 - accuracy: 0.8062\n",
            "Epoch 14/150\n",
            "62/62 [==============================] - 0s 2ms/step - loss: 0.3935 - accuracy: 0.8029\n",
            "Epoch 15/150\n",
            "62/62 [==============================] - 0s 2ms/step - loss: 0.4005 - accuracy: 0.8143\n",
            "Epoch 16/150\n",
            "62/62 [==============================] - 0s 2ms/step - loss: 0.3963 - accuracy: 0.7932\n",
            "Epoch 17/150\n",
            "62/62 [==============================] - 0s 1ms/step - loss: 0.4098 - accuracy: 0.8160\n",
            "Epoch 18/150\n",
            "62/62 [==============================] - 0s 2ms/step - loss: 0.4015 - accuracy: 0.8062\n",
            "Epoch 19/150\n",
            "62/62 [==============================] - 0s 2ms/step - loss: 0.4011 - accuracy: 0.8078\n",
            "Epoch 20/150\n",
            "62/62 [==============================] - 0s 2ms/step - loss: 0.3937 - accuracy: 0.8078\n",
            "Epoch 21/150\n",
            "62/62 [==============================] - 0s 1ms/step - loss: 0.4128 - accuracy: 0.8111\n",
            "Epoch 22/150\n",
            "62/62 [==============================] - 0s 1ms/step - loss: 0.3874 - accuracy: 0.8208\n",
            "Epoch 23/150\n",
            "62/62 [==============================] - 0s 1ms/step - loss: 0.4016 - accuracy: 0.7980\n",
            "Epoch 24/150\n",
            "62/62 [==============================] - 0s 2ms/step - loss: 0.3886 - accuracy: 0.8127\n",
            "Epoch 25/150\n",
            "62/62 [==============================] - 0s 1ms/step - loss: 0.3892 - accuracy: 0.8127\n",
            "Epoch 26/150\n",
            "62/62 [==============================] - 0s 2ms/step - loss: 0.4070 - accuracy: 0.8111\n",
            "Epoch 27/150\n",
            "62/62 [==============================] - 0s 1ms/step - loss: 0.4019 - accuracy: 0.8013\n",
            "Epoch 28/150\n",
            "62/62 [==============================] - 0s 2ms/step - loss: 0.3876 - accuracy: 0.8127\n",
            "Epoch 29/150\n",
            "62/62 [==============================] - 0s 2ms/step - loss: 0.3992 - accuracy: 0.7964\n",
            "Epoch 30/150\n",
            "62/62 [==============================] - 0s 2ms/step - loss: 0.3927 - accuracy: 0.8192\n",
            "Epoch 31/150\n",
            "62/62 [==============================] - 0s 1ms/step - loss: 0.3935 - accuracy: 0.7980\n",
            "Epoch 32/150\n",
            "62/62 [==============================] - 0s 1ms/step - loss: 0.3863 - accuracy: 0.8111\n",
            "Epoch 33/150\n",
            "62/62 [==============================] - 0s 2ms/step - loss: 0.4116 - accuracy: 0.8094\n",
            "Epoch 34/150\n",
            "62/62 [==============================] - 0s 2ms/step - loss: 0.3985 - accuracy: 0.8029\n",
            "Epoch 35/150\n",
            "62/62 [==============================] - 0s 2ms/step - loss: 0.3968 - accuracy: 0.8078\n",
            "Epoch 36/150\n",
            "62/62 [==============================] - 0s 1ms/step - loss: 0.3898 - accuracy: 0.7997\n",
            "Epoch 37/150\n",
            "62/62 [==============================] - 0s 2ms/step - loss: 0.4001 - accuracy: 0.8127\n",
            "Epoch 38/150\n",
            "62/62 [==============================] - 0s 2ms/step - loss: 0.3948 - accuracy: 0.8029\n",
            "Epoch 39/150\n",
            "62/62 [==============================] - 0s 2ms/step - loss: 0.3979 - accuracy: 0.8013\n",
            "Epoch 40/150\n",
            "62/62 [==============================] - 0s 1ms/step - loss: 0.3933 - accuracy: 0.8094\n",
            "Epoch 41/150\n",
            "62/62 [==============================] - 0s 1ms/step - loss: 0.4045 - accuracy: 0.8062\n",
            "Epoch 42/150\n",
            "62/62 [==============================] - 0s 1ms/step - loss: 0.4088 - accuracy: 0.7997\n",
            "Epoch 43/150\n",
            "62/62 [==============================] - 0s 1ms/step - loss: 0.4129 - accuracy: 0.8046\n",
            "Epoch 44/150\n",
            "62/62 [==============================] - 0s 1ms/step - loss: 0.3909 - accuracy: 0.8094\n",
            "Epoch 45/150\n",
            "62/62 [==============================] - 0s 1ms/step - loss: 0.3892 - accuracy: 0.8062\n",
            "Epoch 46/150\n",
            "62/62 [==============================] - 0s 1ms/step - loss: 0.4040 - accuracy: 0.7980\n",
            "Epoch 47/150\n",
            "62/62 [==============================] - 0s 2ms/step - loss: 0.3950 - accuracy: 0.8111\n",
            "Epoch 48/150\n",
            "62/62 [==============================] - 0s 1ms/step - loss: 0.4154 - accuracy: 0.7964\n",
            "Epoch 49/150\n",
            "62/62 [==============================] - 0s 2ms/step - loss: 0.3994 - accuracy: 0.8094\n",
            "Epoch 50/150\n",
            "62/62 [==============================] - 0s 1ms/step - loss: 0.3978 - accuracy: 0.7997\n",
            "Epoch 51/150\n",
            "62/62 [==============================] - 0s 1ms/step - loss: 0.3992 - accuracy: 0.8078\n",
            "Epoch 52/150\n",
            "62/62 [==============================] - 0s 2ms/step - loss: 0.3951 - accuracy: 0.8013\n",
            "Epoch 53/150\n",
            "62/62 [==============================] - 0s 1ms/step - loss: 0.4013 - accuracy: 0.7980\n",
            "Epoch 54/150\n",
            "62/62 [==============================] - 0s 2ms/step - loss: 0.3930 - accuracy: 0.8127\n",
            "Epoch 55/150\n",
            "62/62 [==============================] - 0s 2ms/step - loss: 0.3784 - accuracy: 0.8078\n",
            "Epoch 56/150\n",
            "62/62 [==============================] - 0s 2ms/step - loss: 0.3949 - accuracy: 0.7899\n",
            "Epoch 57/150\n",
            "62/62 [==============================] - 0s 1ms/step - loss: 0.3898 - accuracy: 0.8192\n",
            "Epoch 58/150\n",
            "62/62 [==============================] - 0s 2ms/step - loss: 0.3949 - accuracy: 0.8208\n",
            "Epoch 59/150\n",
            "62/62 [==============================] - 0s 2ms/step - loss: 0.3880 - accuracy: 0.8176\n",
            "Epoch 60/150\n",
            "62/62 [==============================] - 0s 1ms/step - loss: 0.3841 - accuracy: 0.8094\n",
            "Epoch 61/150\n",
            "62/62 [==============================] - 0s 1ms/step - loss: 0.4059 - accuracy: 0.8062\n",
            "Epoch 62/150\n",
            "62/62 [==============================] - 0s 2ms/step - loss: 0.3881 - accuracy: 0.7980\n",
            "Epoch 63/150\n",
            "62/62 [==============================] - 0s 1ms/step - loss: 0.3859 - accuracy: 0.8111\n",
            "Epoch 64/150\n",
            "62/62 [==============================] - 0s 2ms/step - loss: 0.3834 - accuracy: 0.8046\n",
            "Epoch 65/150\n",
            "62/62 [==============================] - 0s 2ms/step - loss: 0.3978 - accuracy: 0.8029\n",
            "Epoch 66/150\n",
            "62/62 [==============================] - 0s 1ms/step - loss: 0.3929 - accuracy: 0.8062\n",
            "Epoch 67/150\n",
            "62/62 [==============================] - 0s 1ms/step - loss: 0.3900 - accuracy: 0.8127\n",
            "Epoch 68/150\n",
            "62/62 [==============================] - 0s 2ms/step - loss: 0.4006 - accuracy: 0.8013\n",
            "Epoch 69/150\n",
            "62/62 [==============================] - 0s 1ms/step - loss: 0.3997 - accuracy: 0.8078\n",
            "Epoch 70/150\n",
            "62/62 [==============================] - 0s 2ms/step - loss: 0.3889 - accuracy: 0.8062\n",
            "Epoch 71/150\n",
            "62/62 [==============================] - 0s 1ms/step - loss: 0.3855 - accuracy: 0.8111\n",
            "Epoch 72/150\n",
            "62/62 [==============================] - 0s 1ms/step - loss: 0.3970 - accuracy: 0.8127\n",
            "Epoch 73/150\n",
            "62/62 [==============================] - 0s 1ms/step - loss: 0.3871 - accuracy: 0.7980\n",
            "Epoch 74/150\n",
            "62/62 [==============================] - 0s 2ms/step - loss: 0.3822 - accuracy: 0.8078\n",
            "Epoch 75/150\n",
            "62/62 [==============================] - 0s 2ms/step - loss: 0.3969 - accuracy: 0.7883\n",
            "Epoch 76/150\n",
            "62/62 [==============================] - 0s 2ms/step - loss: 0.3973 - accuracy: 0.8046\n",
            "Epoch 77/150\n",
            "62/62 [==============================] - 0s 2ms/step - loss: 0.4004 - accuracy: 0.7850\n",
            "Epoch 78/150\n",
            "62/62 [==============================] - 0s 2ms/step - loss: 0.3970 - accuracy: 0.8062\n",
            "Epoch 79/150\n",
            "62/62 [==============================] - 0s 2ms/step - loss: 0.4027 - accuracy: 0.8046\n",
            "Epoch 80/150\n",
            "62/62 [==============================] - 0s 1ms/step - loss: 0.3931 - accuracy: 0.8078\n",
            "Epoch 81/150\n",
            "62/62 [==============================] - 0s 1ms/step - loss: 0.4140 - accuracy: 0.7997\n",
            "Epoch 82/150\n",
            "62/62 [==============================] - 0s 1ms/step - loss: 0.3853 - accuracy: 0.8062\n",
            "Epoch 83/150\n",
            "62/62 [==============================] - 0s 2ms/step - loss: 0.3891 - accuracy: 0.8062\n",
            "Epoch 84/150\n",
            "62/62 [==============================] - 0s 2ms/step - loss: 0.4233 - accuracy: 0.7932\n",
            "Epoch 85/150\n",
            "62/62 [==============================] - 0s 2ms/step - loss: 0.4063 - accuracy: 0.7932\n",
            "Epoch 86/150\n",
            "62/62 [==============================] - 0s 2ms/step - loss: 0.3943 - accuracy: 0.7980\n",
            "Epoch 87/150\n",
            "62/62 [==============================] - 0s 2ms/step - loss: 0.3769 - accuracy: 0.8046\n",
            "Epoch 88/150\n",
            "62/62 [==============================] - 0s 2ms/step - loss: 0.3843 - accuracy: 0.8046\n",
            "Epoch 89/150\n",
            "62/62 [==============================] - 0s 1ms/step - loss: 0.3914 - accuracy: 0.8127\n",
            "Epoch 90/150\n",
            "62/62 [==============================] - 0s 1ms/step - loss: 0.3840 - accuracy: 0.8160\n",
            "Epoch 91/150\n",
            "62/62 [==============================] - 0s 2ms/step - loss: 0.3882 - accuracy: 0.8111\n",
            "Epoch 92/150\n",
            "62/62 [==============================] - 0s 1ms/step - loss: 0.3888 - accuracy: 0.7964\n",
            "Epoch 93/150\n",
            "62/62 [==============================] - 0s 2ms/step - loss: 0.4019 - accuracy: 0.7948\n",
            "Epoch 94/150\n",
            "62/62 [==============================] - 0s 2ms/step - loss: 0.3853 - accuracy: 0.7964\n",
            "Epoch 95/150\n",
            "62/62 [==============================] - 0s 2ms/step - loss: 0.3883 - accuracy: 0.8078\n",
            "Epoch 96/150\n",
            "62/62 [==============================] - 0s 1ms/step - loss: 0.3860 - accuracy: 0.8013\n",
            "Epoch 97/150\n",
            "62/62 [==============================] - 0s 2ms/step - loss: 0.3854 - accuracy: 0.8029\n",
            "Epoch 98/150\n",
            "62/62 [==============================] - 0s 1ms/step - loss: 0.3789 - accuracy: 0.7997\n",
            "Epoch 99/150\n",
            "62/62 [==============================] - 0s 1ms/step - loss: 0.3863 - accuracy: 0.8111\n",
            "Epoch 100/150\n",
            "62/62 [==============================] - 0s 2ms/step - loss: 0.3801 - accuracy: 0.8127\n",
            "Epoch 101/150\n",
            "62/62 [==============================] - 0s 2ms/step - loss: 0.3915 - accuracy: 0.7980\n",
            "Epoch 102/150\n",
            "62/62 [==============================] - 0s 1ms/step - loss: 0.4275 - accuracy: 0.7883\n",
            "Epoch 103/150\n",
            "62/62 [==============================] - 0s 2ms/step - loss: 0.4050 - accuracy: 0.8094\n",
            "Epoch 104/150\n",
            "62/62 [==============================] - 0s 2ms/step - loss: 0.3931 - accuracy: 0.8046\n",
            "Epoch 105/150\n",
            "62/62 [==============================] - 0s 2ms/step - loss: 0.4028 - accuracy: 0.7964\n",
            "Epoch 106/150\n",
            "62/62 [==============================] - 0s 2ms/step - loss: 0.3793 - accuracy: 0.8062\n",
            "Epoch 107/150\n",
            "62/62 [==============================] - 0s 1ms/step - loss: 0.3839 - accuracy: 0.8127\n",
            "Epoch 108/150\n",
            "62/62 [==============================] - 0s 2ms/step - loss: 0.3807 - accuracy: 0.8111\n",
            "Epoch 109/150\n",
            "62/62 [==============================] - 0s 2ms/step - loss: 0.3924 - accuracy: 0.8111\n",
            "Epoch 110/150\n",
            "62/62 [==============================] - 0s 1ms/step - loss: 0.3872 - accuracy: 0.8160\n",
            "Epoch 111/150\n",
            "62/62 [==============================] - 0s 2ms/step - loss: 0.3866 - accuracy: 0.8013\n",
            "Epoch 112/150\n",
            "62/62 [==============================] - 0s 2ms/step - loss: 0.3827 - accuracy: 0.7997\n",
            "Epoch 113/150\n",
            "62/62 [==============================] - 0s 2ms/step - loss: 0.3924 - accuracy: 0.8111\n",
            "Epoch 114/150\n",
            "62/62 [==============================] - 0s 2ms/step - loss: 0.3787 - accuracy: 0.8029\n",
            "Epoch 115/150\n",
            "62/62 [==============================] - 0s 1ms/step - loss: 0.3984 - accuracy: 0.8029\n",
            "Epoch 116/150\n",
            "62/62 [==============================] - 0s 2ms/step - loss: 0.3922 - accuracy: 0.8013\n",
            "Epoch 117/150\n",
            "62/62 [==============================] - 0s 2ms/step - loss: 0.3951 - accuracy: 0.7980\n",
            "Epoch 118/150\n",
            "62/62 [==============================] - 0s 1ms/step - loss: 0.3917 - accuracy: 0.8111\n",
            "Epoch 119/150\n",
            "62/62 [==============================] - 0s 2ms/step - loss: 0.3970 - accuracy: 0.8013\n",
            "Epoch 120/150\n",
            "62/62 [==============================] - 0s 1ms/step - loss: 0.3802 - accuracy: 0.8078\n",
            "Epoch 121/150\n",
            "62/62 [==============================] - 0s 1ms/step - loss: 0.3976 - accuracy: 0.8013\n",
            "Epoch 122/150\n",
            "62/62 [==============================] - 0s 2ms/step - loss: 0.3923 - accuracy: 0.8111\n",
            "Epoch 123/150\n",
            "62/62 [==============================] - 0s 2ms/step - loss: 0.4058 - accuracy: 0.8029\n",
            "Epoch 124/150\n",
            "62/62 [==============================] - 0s 2ms/step - loss: 0.3822 - accuracy: 0.8078\n",
            "Epoch 125/150\n",
            "62/62 [==============================] - 0s 2ms/step - loss: 0.3943 - accuracy: 0.7997\n",
            "Epoch 126/150\n",
            "62/62 [==============================] - 0s 1ms/step - loss: 0.3914 - accuracy: 0.8062\n",
            "Epoch 127/150\n",
            "62/62 [==============================] - 0s 2ms/step - loss: 0.3906 - accuracy: 0.8078\n",
            "Epoch 128/150\n",
            "62/62 [==============================] - 0s 2ms/step - loss: 0.3919 - accuracy: 0.7948\n",
            "Epoch 129/150\n",
            "62/62 [==============================] - 0s 2ms/step - loss: 0.4069 - accuracy: 0.7964\n",
            "Epoch 130/150\n",
            "62/62 [==============================] - 0s 1ms/step - loss: 0.3856 - accuracy: 0.8111\n",
            "Epoch 131/150\n",
            "62/62 [==============================] - 0s 2ms/step - loss: 0.3935 - accuracy: 0.8029\n",
            "Epoch 132/150\n",
            "62/62 [==============================] - 0s 2ms/step - loss: 0.3843 - accuracy: 0.8111\n",
            "Epoch 133/150\n",
            "62/62 [==============================] - 0s 1ms/step - loss: 0.3919 - accuracy: 0.8029\n",
            "Epoch 134/150\n",
            "62/62 [==============================] - 0s 2ms/step - loss: 0.3855 - accuracy: 0.8160\n",
            "Epoch 135/150\n",
            "62/62 [==============================] - 0s 2ms/step - loss: 0.3935 - accuracy: 0.8029\n",
            "Epoch 136/150\n",
            "62/62 [==============================] - 0s 2ms/step - loss: 0.3792 - accuracy: 0.8094\n",
            "Epoch 137/150\n",
            "62/62 [==============================] - 0s 1ms/step - loss: 0.3901 - accuracy: 0.8062\n",
            "Epoch 138/150\n",
            "62/62 [==============================] - 0s 2ms/step - loss: 0.3907 - accuracy: 0.7980\n",
            "Epoch 139/150\n",
            "62/62 [==============================] - 0s 2ms/step - loss: 0.3910 - accuracy: 0.8062\n",
            "Epoch 140/150\n",
            "62/62 [==============================] - 0s 1ms/step - loss: 0.3935 - accuracy: 0.8029\n",
            "Epoch 141/150\n",
            "62/62 [==============================] - 0s 1ms/step - loss: 0.3819 - accuracy: 0.8078\n",
            "Epoch 142/150\n",
            "62/62 [==============================] - 0s 2ms/step - loss: 0.3952 - accuracy: 0.8078\n",
            "Epoch 143/150\n",
            "62/62 [==============================] - 0s 2ms/step - loss: 0.3758 - accuracy: 0.8111\n",
            "Epoch 144/150\n",
            "62/62 [==============================] - 0s 2ms/step - loss: 0.3857 - accuracy: 0.7964\n",
            "Epoch 145/150\n",
            "62/62 [==============================] - 0s 2ms/step - loss: 0.3820 - accuracy: 0.8111\n",
            "Epoch 146/150\n",
            "62/62 [==============================] - 0s 2ms/step - loss: 0.3792 - accuracy: 0.8160\n",
            "Epoch 147/150\n",
            "62/62 [==============================] - 0s 2ms/step - loss: 0.3967 - accuracy: 0.8013\n",
            "Epoch 148/150\n",
            "62/62 [==============================] - 0s 2ms/step - loss: 0.3832 - accuracy: 0.8094\n",
            "Epoch 149/150\n",
            "62/62 [==============================] - 0s 2ms/step - loss: 0.3856 - accuracy: 0.8160\n",
            "Epoch 150/150\n",
            "62/62 [==============================] - 0s 1ms/step - loss: 0.3880 - accuracy: 0.8094\n"
          ]
        },
        {
          "output_type": "execute_result",
          "data": {
            "text/plain": [
              "<keras.callbacks.History at 0x7f963df38890>"
            ]
          },
          "metadata": {},
          "execution_count": 110
        }
      ]
    },
    {
      "cell_type": "markdown",
      "metadata": {
        "id": "57zeJ0WCuKlt"
      },
      "source": [
        "#5. Evaluate Model"
      ]
    },
    {
      "cell_type": "code",
      "metadata": {
        "colab": {
          "base_uri": "https://localhost:8080/"
        },
        "id": "uk5udTvguNzY",
        "outputId": "f537ab85-ae7a-4377-9b26-ef65f64ae42a"
      },
      "source": [
        "scores = model.evaluate(train_X, train_Y)\n",
        "print(\"\\n%s: %.2f%%\" % (model.metrics_names[1], scores[1]*100))"
      ],
      "execution_count": null,
      "outputs": [
        {
          "output_type": "stream",
          "name": "stdout",
          "text": [
            "20/20 [==============================] - 0s 2ms/step - loss: 0.3670 - accuracy: 0.8127\n",
            "\n",
            "accuracy: 81.27%\n"
          ]
        }
      ]
    },
    {
      "cell_type": "code",
      "metadata": {
        "colab": {
          "base_uri": "https://localhost:8080/"
        },
        "id": "uxZKO5cV1CgN",
        "outputId": "5362a77f-1129-442b-82cf-e2ef6299e598"
      },
      "source": [
        "scores = model.evaluate(test_X, test_Y)\n",
        "print(\"\\n%s: %.2f%%\" % (model.metrics_names[1], scores[1]*100))\n",
        "# To evaluate the performance of the model, we can simply pass the test to the evaluate method of our model.\n",
        "# To check the test accuracy and loss, execute the script and we can see that we get a test accuracy of 78.57%\n",
        "# Our training accuaracy was around 81%. This means that our model is slightly overfitting on the training set."
      ],
      "execution_count": null,
      "outputs": [
        {
          "output_type": "stream",
          "name": "stdout",
          "text": [
            "5/5 [==============================] - 0s 4ms/step - loss: 0.4241 - accuracy: 0.7857\n",
            "\n",
            "accuracy: 78.57%\n"
          ]
        }
      ]
    },
    {
      "cell_type": "code",
      "metadata": {
        "colab": {
          "base_uri": "https://localhost:8080/"
        },
        "id": "R8vjZ8HoxL_8",
        "outputId": "02a0d502-854c-41b0-ad74-fd1632d63e74"
      },
      "source": [
        "n = len(X)\n",
        "training_size = int(n*0.8)\n",
        "testing_size = n-training_size\n",
        "\n",
        "train_X = X[:training_size,:]\n",
        "print(train_X)\n",
        "train_Y = Y[:training_size]\n",
        "print(train_Y)\n",
        "test_X = X[:testing_size,:]\n",
        "test_Y = Y[:testing_size]   # After complete this step, go back and re do step 4"
      ],
      "execution_count": null,
      "outputs": [
        {
          "output_type": "stream",
          "name": "stdout",
          "text": [
            "[[  6.    148.     72.    ...  33.6     0.627  50.   ]\n",
            " [  1.     85.     66.    ...  26.6     0.351  31.   ]\n",
            " [  8.    183.     64.    ...  23.3     0.672  32.   ]\n",
            " ...\n",
            " [  3.    174.     58.    ...  32.9     0.593  36.   ]\n",
            " [  7.    168.     88.    ...  38.2     0.787  40.   ]\n",
            " [  6.    105.     80.    ...  32.5     0.878  26.   ]]\n",
            "[1. 0. 1. 0. 1. 0. 1. 0. 1. 1. 0. 1. 0. 1. 1. 1. 1. 1. 0. 1. 0. 0. 1. 1.\n",
            " 1. 1. 1. 0. 0. 0. 0. 1. 0. 0. 0. 0. 0. 1. 1. 1. 0. 0. 0. 1. 0. 1. 0. 0.\n",
            " 1. 0. 0. 0. 0. 1. 0. 0. 1. 0. 0. 0. 0. 1. 0. 0. 1. 0. 1. 0. 0. 0. 1. 0.\n",
            " 1. 0. 0. 0. 0. 0. 1. 0. 0. 0. 0. 0. 1. 0. 0. 0. 1. 0. 0. 0. 0. 1. 0. 0.\n",
            " 0. 0. 0. 1. 1. 0. 0. 0. 0. 0. 0. 0. 0. 1. 1. 1. 0. 0. 1. 1. 1. 0. 0. 0.\n",
            " 1. 0. 0. 0. 1. 1. 0. 0. 1. 1. 1. 1. 1. 0. 0. 0. 0. 0. 0. 0. 0. 0. 0. 1.\n",
            " 0. 0. 0. 0. 0. 0. 0. 0. 1. 0. 1. 1. 0. 0. 0. 1. 0. 0. 0. 0. 1. 1. 0. 0.\n",
            " 0. 0. 1. 1. 0. 0. 0. 1. 0. 1. 0. 1. 0. 0. 0. 0. 0. 1. 1. 1. 1. 1. 0. 0.\n",
            " 1. 1. 0. 1. 0. 1. 1. 1. 0. 0. 0. 0. 0. 0. 1. 1. 0. 1. 0. 0. 0. 1. 1. 1.\n",
            " 1. 0. 1. 1. 1. 1. 0. 0. 0. 0. 0. 1. 0. 0. 1. 1. 0. 0. 0. 1. 1. 1. 1. 0.\n",
            " 0. 0. 1. 1. 0. 1. 0. 0. 0. 0. 0. 0. 0. 0. 1. 1. 0. 0. 0. 1. 0. 1. 0. 0.\n",
            " 1. 0. 1. 0. 0. 1. 1. 0. 0. 0. 0. 0. 1. 0. 0. 0. 1. 0. 0. 1. 1. 0. 0. 1.\n",
            " 0. 0. 0. 1. 1. 1. 0. 0. 1. 0. 1. 0. 1. 1. 0. 1. 0. 0. 1. 0. 1. 1. 0. 0.\n",
            " 1. 0. 1. 0. 0. 1. 0. 1. 0. 1. 1. 1. 0. 0. 1. 0. 1. 0. 0. 0. 1. 0. 0. 0.\n",
            " 0. 1. 1. 1. 0. 0. 0. 0. 0. 0. 0. 0. 0. 1. 0. 0. 0. 0. 0. 1. 1. 1. 0. 1.\n",
            " 1. 0. 0. 1. 0. 0. 1. 0. 0. 1. 1. 0. 0. 0. 0. 1. 0. 0. 1. 0. 0. 0. 0. 0.\n",
            " 0. 0. 1. 1. 1. 0. 0. 1. 0. 0. 1. 0. 0. 1. 0. 1. 1. 0. 1. 0. 1. 0. 1. 0.\n",
            " 1. 1. 0. 0. 0. 0. 1. 1. 0. 1. 0. 1. 0. 0. 0. 0. 1. 1. 0. 1. 0. 1. 0. 0.\n",
            " 0. 0. 0. 1. 0. 0. 0. 0. 1. 0. 0. 1. 1. 1. 0. 0. 1. 0. 0. 1. 0. 0. 0. 1.\n",
            " 0. 0. 1. 0. 0. 0. 0. 0. 0. 0. 0. 0. 1. 0. 0. 0. 0. 0. 0. 0. 1. 0. 0. 0.\n",
            " 1. 0. 0. 0. 1. 1. 0. 0. 0. 0. 0. 0. 0. 1. 0. 0. 0. 0. 1. 0. 0. 0. 1. 0.\n",
            " 0. 0. 1. 0. 0. 0. 1. 0. 0. 0. 0. 1. 1. 0. 0. 0. 0. 0. 0. 1. 0. 0. 0. 0.\n",
            " 0. 0. 0. 0. 0. 0. 0. 1. 0. 0. 0. 1. 1. 1. 1. 0. 0. 1. 1. 0. 0. 0. 0. 0.\n",
            " 0. 0. 0. 0. 0. 0. 0. 0. 1. 1. 0. 0. 0. 0. 0. 0. 0. 1. 0. 0. 0. 0. 0. 0.\n",
            " 0. 1. 0. 1. 1. 0. 0. 0. 1. 0. 1. 0. 1. 0. 1. 0. 1. 0. 0. 1. 0. 0. 1. 0.\n",
            " 0. 0. 0. 1. 1. 0. 1. 0. 0. 0. 0. 1. 1. 0.]\n"
          ]
        }
      ]
    }
  ]
}