{
  "nbformat": 4,
  "nbformat_minor": 0,
  "metadata": {
    "colab": {
      "name": "lab2proj2.ipynb",
      "provenance": []
    },
    "kernelspec": {
      "name": "python3",
      "display_name": "Python 3"
    },
    "language_info": {
      "name": "python"
    }
  },
  "cells": [
    {
      "cell_type": "code",
      "metadata": {
        "colab": {
          "base_uri": "https://localhost:8080/"
        },
        "id": "hV6R5WKvcwBg",
        "outputId": "cf6cd9e9-c02e-4112-d107-85ff758bc165"
      },
      "source": [
        "from google.colab import files, drive\n",
        "drive.mount('/content/drive')"
      ],
      "execution_count": 1,
      "outputs": [
        {
          "output_type": "stream",
          "name": "stdout",
          "text": [
            "Drive already mounted at /content/drive; to attempt to forcibly remount, call drive.mount(\"/content/drive\", force_remount=True).\n"
          ]
        }
      ]
    },
    {
      "cell_type": "markdown",
      "metadata": {
        "id": "iwHqGIb-WUhU"
      },
      "source": [
        "#1. Dataset Loading and Data Inspection"
      ]
    },
    {
      "cell_type": "code",
      "metadata": {
        "colab": {
          "base_uri": "https://localhost:8080/"
        },
        "id": "PrByIk9Yc37H",
        "outputId": "c88d70d6-3009-4ac2-dae0-251c2208b19f"
      },
      "source": [
        "# Import libraries\n",
        "from keras.models import Sequential\n",
        "from keras.layers import Dense\n",
        "from sklearn.feature_extraction.text import TfidfVectorizer\n",
        "import numpy \n",
        "import pandas as pd\n",
        "import warnings\n",
        "import re\n",
        "warnings.filterwarnings(\"ignore\")\n",
        "numpy.random.seed(8)\n",
        "\n",
        "# Import dataset\n",
        "fname = '/content/drive/MyDrive/lab2/tweets_train_validation.txt' \n",
        "tweet = pd.read_csv(fname, encoding='iso-8859-1', lineterminator='\\n') # Read txt file\n",
        "tweet.isnull().values.any() # Check if the dataset contains any NULL value "
      ],
      "execution_count": 2,
      "outputs": [
        {
          "output_type": "execute_result",
          "data": {
            "text/plain": [
              "False"
            ]
          },
          "metadata": {},
          "execution_count": 2
        }
      ]
    },
    {
      "cell_type": "code",
      "metadata": {
        "colab": {
          "base_uri": "https://localhost:8080/"
        },
        "id": "sD1sRWOvV8em",
        "outputId": "afc93be7-ea07-4c32-907b-7dbb5c8fee3b"
      },
      "source": [
        "tweet.shape"
      ],
      "execution_count": 3,
      "outputs": [
        {
          "output_type": "execute_result",
          "data": {
            "text/plain": [
              "(99989, 2)"
            ]
          },
          "metadata": {},
          "execution_count": 3
        }
      ]
    },
    {
      "cell_type": "code",
      "metadata": {
        "colab": {
          "base_uri": "https://localhost:8080/"
        },
        "id": "weXkvrz7V_aN",
        "outputId": "4c2a54e6-5400-4926-c634-0ffc6ae593f7"
      },
      "source": [
        "tweet.columns "
      ],
      "execution_count": 4,
      "outputs": [
        {
          "output_type": "execute_result",
          "data": {
            "text/plain": [
              "Index(['Sentiment', 'SentimentText'], dtype='object')"
            ]
          },
          "metadata": {},
          "execution_count": 4
        }
      ]
    },
    {
      "cell_type": "code",
      "metadata": {
        "colab": {
          "base_uri": "https://localhost:8080/",
          "height": 359
        },
        "id": "C64e9SM9WB8v",
        "outputId": "9105b17e-5e64-4aa7-8145-e5ae83f4b7af"
      },
      "source": [
        "tweet.head(10)"
      ],
      "execution_count": 5,
      "outputs": [
        {
          "output_type": "execute_result",
          "data": {
            "text/html": [
              "<div>\n",
              "<style scoped>\n",
              "    .dataframe tbody tr th:only-of-type {\n",
              "        vertical-align: middle;\n",
              "    }\n",
              "\n",
              "    .dataframe tbody tr th {\n",
              "        vertical-align: top;\n",
              "    }\n",
              "\n",
              "    .dataframe thead th {\n",
              "        text-align: right;\n",
              "    }\n",
              "</style>\n",
              "<table border=\"1\" class=\"dataframe\">\n",
              "  <thead>\n",
              "    <tr style=\"text-align: right;\">\n",
              "      <th></th>\n",
              "      <th>Sentiment</th>\n",
              "      <th>SentimentText</th>\n",
              "    </tr>\n",
              "  </thead>\n",
              "  <tbody>\n",
              "    <tr>\n",
              "      <th>0</th>\n",
              "      <td>0</td>\n",
              "      <td>is so sad for my APL frie...</td>\n",
              "    </tr>\n",
              "    <tr>\n",
              "      <th>1</th>\n",
              "      <td>0</td>\n",
              "      <td>I missed the New Moon trail...</td>\n",
              "    </tr>\n",
              "    <tr>\n",
              "      <th>2</th>\n",
              "      <td>1</td>\n",
              "      <td>omg its already 7:30 :O</td>\n",
              "    </tr>\n",
              "    <tr>\n",
              "      <th>3</th>\n",
              "      <td>0</td>\n",
              "      <td>.. Omgaga. Im sooo  im gunna CRy. I'...</td>\n",
              "    </tr>\n",
              "    <tr>\n",
              "      <th>4</th>\n",
              "      <td>0</td>\n",
              "      <td>i think mi bf is cheating on me!!!   ...</td>\n",
              "    </tr>\n",
              "    <tr>\n",
              "      <th>5</th>\n",
              "      <td>0</td>\n",
              "      <td>or i just worry too much?</td>\n",
              "    </tr>\n",
              "    <tr>\n",
              "      <th>6</th>\n",
              "      <td>1</td>\n",
              "      <td>Juuuuuuuuuuuuuuuuussssst Chillin!!</td>\n",
              "    </tr>\n",
              "    <tr>\n",
              "      <th>7</th>\n",
              "      <td>0</td>\n",
              "      <td>Sunny Again        Work Tomorrow  :-|  ...</td>\n",
              "    </tr>\n",
              "    <tr>\n",
              "      <th>8</th>\n",
              "      <td>1</td>\n",
              "      <td>handed in my uniform today . i miss you ...</td>\n",
              "    </tr>\n",
              "    <tr>\n",
              "      <th>9</th>\n",
              "      <td>1</td>\n",
              "      <td>hmmmm.... i wonder how she my number @-)</td>\n",
              "    </tr>\n",
              "  </tbody>\n",
              "</table>\n",
              "</div>"
            ],
            "text/plain": [
              "   Sentiment                                      SentimentText\n",
              "0          0                       is so sad for my APL frie...\n",
              "1          0                     I missed the New Moon trail...\n",
              "2          1                            omg its already 7:30 :O\n",
              "3          0            .. Omgaga. Im sooo  im gunna CRy. I'...\n",
              "4          0           i think mi bf is cheating on me!!!   ...\n",
              "5          0                  or i just worry too much?        \n",
              "6          1                 Juuuuuuuuuuuuuuuuussssst Chillin!!\n",
              "7          0         Sunny Again        Work Tomorrow  :-|  ...\n",
              "8          1        handed in my uniform today . i miss you ...\n",
              "9          1           hmmmm.... i wonder how she my number @-)"
            ]
          },
          "metadata": {},
          "execution_count": 5
        }
      ]
    },
    {
      "cell_type": "code",
      "metadata": {
        "colab": {
          "base_uri": "https://localhost:8080/",
          "height": 35
        },
        "id": "T1Dtu91XWEWY",
        "outputId": "9dbac709-0145-4e0c-9235-ab022a91ccb4"
      },
      "source": [
        "tweet[\"SentimentText\"][5]"
      ],
      "execution_count": 6,
      "outputs": [
        {
          "output_type": "execute_result",
          "data": {
            "application/vnd.google.colaboratory.intrinsic+json": {
              "type": "string"
            },
            "text/plain": [
              "'         or i just worry too much?        '"
            ]
          },
          "metadata": {},
          "execution_count": 6
        }
      ]
    },
    {
      "cell_type": "code",
      "metadata": {
        "colab": {
          "base_uri": "https://localhost:8080/"
        },
        "id": "xhHYUfZsWHrF",
        "outputId": "44e65594-7b0f-4c35-d119-6c24e7862d40"
      },
      "source": [
        "tweet.info()"
      ],
      "execution_count": 7,
      "outputs": [
        {
          "output_type": "stream",
          "name": "stdout",
          "text": [
            "<class 'pandas.core.frame.DataFrame'>\n",
            "RangeIndex: 99989 entries, 0 to 99988\n",
            "Data columns (total 2 columns):\n",
            " #   Column         Non-Null Count  Dtype \n",
            "---  ------         --------------  ----- \n",
            " 0   Sentiment      99989 non-null  int64 \n",
            " 1   SentimentText  99989 non-null  object\n",
            "dtypes: int64(1), object(1)\n",
            "memory usage: 1.5+ MB\n"
          ]
        }
      ]
    },
    {
      "cell_type": "code",
      "metadata": {
        "colab": {
          "base_uri": "https://localhost:8080/",
          "height": 296
        },
        "id": "LANcFHnrWJtd",
        "outputId": "ab9d0380-25a6-49b2-918e-93a11a564a6b"
      },
      "source": [
        "import seaborn as sns\n",
        "sns.countplot(x='Sentiment', data=tweet) # A little bit more of inspection here.\n",
        "# We can see there are more positive sentiment texts than negative ones"
      ],
      "execution_count": 8,
      "outputs": [
        {
          "output_type": "execute_result",
          "data": {
            "text/plain": [
              "<matplotlib.axes._subplots.AxesSubplot at 0x7ff1e9b3a8d0>"
            ]
          },
          "metadata": {},
          "execution_count": 8
        },
        {
          "output_type": "display_data",
          "data": {
            "image/png": "[encoded data removed]",
            "text/plain": [
              "<Figure size 432x288 with 1 Axes>"
            ]
          },
          "metadata": {
            "needs_background": "light"
          }
        }
      ]
    },
    {
      "cell_type": "markdown",
      "metadata": {
        "id": "kSjkBWV2Ws3y"
      },
      "source": [
        "According to the data inspection, this tweets_train_validation.csv file has around 100,000 tweets in total. Each tweet has two columns: sentiment text and the corresponding sentiment label (0: negative, 1: positive). "
      ]
    },
    {
      "cell_type": "markdown",
      "metadata": {
        "id": "_mNarEd2XhLq"
      },
      "source": [
        "# 2. Data Preprocessing"
      ]
    },
    {
      "cell_type": "code",
      "metadata": {
        "colab": {
          "base_uri": "https://localhost:8080/"
        },
        "id": "kT6NRmL_c6BL",
        "outputId": "85bd8a18-4e45-4dd2-db48-e17565195a68"
      },
      "source": [
        "cleaned_sen = [] # Created a cleaned sentences to store the sentiment texts after the clean process\n",
        "sentences = tweet.SentimentText.values\n",
        "preprocess = re.compile(\"(https*\\S+)|(@\\S+)|(#\\S+)|(\\'\\w+)|([^\\w\\s])|(\\w*\\d+\\w*)|(\\s{2,})\") # Process for removing tags and symbols\n",
        "\n",
        "def preprocess_text(sen):\n",
        "  sentences = remove_tags(sen) # Remove html tags, in our case there seems no such tags\n",
        "  sentences = re.sub('[^a-zA-Z]', ' ', sentences) # Remove punctuations and numbers\n",
        "  sentences = re.sub(r\"\\s+[a-zA-Z]\\s+\", ' ', sentences) # Remove single character\n",
        "  sentences = re.sub(r'\\s+', ' ', sentences) # Remove multiple spaces\n",
        "  return sentences\n",
        "import re\n",
        "TAG_RE = re.compile(r'<[^>]+>')\n",
        "\n",
        "def remove_tags(text):\n",
        "    return TAG_RE.sub('', text)\n",
        "\n",
        "for text in sentences:\n",
        "  cleaned_line = preprocess.sub(' ', text) # Recall the preprocess line above\n",
        "  cleaned_line = cleaned_line.strip().lower().encode('ascii', 'ignore').decode() # Converted to lower cases, remove extra spaces, etc\n",
        "  cleaned_sen.append(cleaned_line)\n",
        "\n",
        "cleaned_sen[:20] # From the output, we can see that the tags, puncuations and numbers have been mostly removed. We are only left with alphabets"
      ],
      "execution_count": 9,
      "outputs": [
        {
          "output_type": "execute_result",
          "data": {
            "text/plain": [
              "['is so sad for my apl friend',\n",
              " 'i missed the new moon trailer',\n",
              " 'omg its already      o',\n",
              " 'omgaga  im sooo im gunna cry  i  been at this dentist since     i was suposed   just get a crown put on',\n",
              " 'i think mi bf is cheating on me    t_t',\n",
              " 'or i just worry too much',\n",
              " 'juuuuuuuuuuuuuuuuussssst chillin',\n",
              " 'sunny again work tomorrow     tv tonight',\n",
              " 'handed in my uniform today   i miss you already',\n",
              " 'hmmmm     i wonder how she my number',\n",
              " 'i must think about positive',\n",
              " 'thanks to all the haters up in my face all day',\n",
              " 'this weekend has sucked so far',\n",
              " 'jb isnt showing in australia any more',\n",
              " 'ok thats it you win',\n",
              " 'lt          this is the way i feel right now',\n",
              " 'awhhe man     i  completely useless rt now  funny all i can do is twitter',\n",
              " 'feeling strangely fine  now i  gonna go listen to some semisonic to celebrate',\n",
              " 'huge roll of thunder just now   so scary',\n",
              " 'i just cut my beard off  it  only been growing for well over a year  i  gonna start it over    is happy in the meantime']"
            ]
          },
          "metadata": {},
          "execution_count": 9
        }
      ]
    },
    {
      "cell_type": "code",
      "metadata": {
        "colab": {
          "base_uri": "https://localhost:8080/"
        },
        "id": "-rL5lxBXdCT1",
        "outputId": "4b9ada9b-8115-4bfb-8adf-011533851d94"
      },
      "source": [
        "Y = tweet['Sentiment']\n",
        "# Y = np.array(list(map(lambda x:'postive' if x==1 else 'negative', Y)))\n",
        "Y[2]"
      ],
      "execution_count": 10,
      "outputs": [
        {
          "output_type": "execute_result",
          "data": {
            "text/plain": [
              "1"
            ]
          },
          "metadata": {},
          "execution_count": 10
        }
      ]
    },
    {
      "cell_type": "code",
      "metadata": {
        "id": "R7AdNL4edE67"
      },
      "source": [
        "from sklearn.feature_extraction.text import TfidfVectorizer\n",
        "# The script below uses tfidf and then divides our data into 80% for the training set and 20% for the testing set\n",
        "vectorizer = TfidfVectorizer(stop_words='english', max_features=8000, ngram_range=(1,1))\n",
        "X_train = vectorizer.fit_transform(cleaned_sen)[:80000].A \n",
        "Y_train = tweet.Sentiment[:80000] \n",
        "X_test = vectorizer.fit_transform(cleaned_sen)[80000:].A\n",
        "Y_test = tweet.Sentiment[80000:]\n",
        "# The train set will be used to train our learning model while the testing set will be used to evalute hoe well our model performs"
      ],
      "execution_count": 11,
      "outputs": []
    },
    {
      "cell_type": "markdown",
      "metadata": {
        "id": "Bi_mEXJFc3WZ"
      },
      "source": [
        "#3. Define and Compile Model"
      ]
    },
    {
      "cell_type": "markdown",
      "metadata": {
        "id": "ldDlzA_6c7eu"
      },
      "source": [
        "Models in Keras are defined as a sequence of layers. In this lab, we will use a fully-connected network structure."
      ]
    },
    {
      "cell_type": "code",
      "metadata": {
        "id": "PdJiLJ4udICq"
      },
      "source": [
        "model = Sequential()\n",
        "# model.add(Dense(12,input_dim=8, activation='relu'))\n",
        "model.add(Dense(8,activation='relu'))\n",
        "model.add(Dense(1,activation='sigmoid')) # Could test different embedding layer by editing this part\n",
        "\n",
        "model.compile(loss='binary_crossentropy',optimizer='adam',metrics=['accuracy'])"
      ],
      "execution_count": 12,
      "outputs": []
    },
    {
      "cell_type": "markdown",
      "metadata": {
        "id": "_nt1kmV3dAzd"
      },
      "source": [
        "# 4. Fit Model"
      ]
    },
    {
      "cell_type": "code",
      "metadata": {
        "colab": {
          "base_uri": "https://localhost:8080/"
        },
        "id": "0bzQLt4TdXzl",
        "outputId": "bb66ae78-0c10-4151-b64e-e7e225e67455"
      },
      "source": [
        "model.fit(X_train,Y_train, epochs=15, batch_size=2000) \n",
        "# We use fit method to train our fully connected neural network. At the end of training, we can see that the training accuracy is around 78%"
      ],
      "execution_count": 13,
      "outputs": [
        {
          "output_type": "stream",
          "name": "stdout",
          "text": [
            "Epoch 1/15\n",
            "40/40 [==============================] - 4s 71ms/step - loss: 0.6874 - accuracy: 0.5573\n",
            "Epoch 2/15\n",
            "40/40 [==============================] - 3s 72ms/step - loss: 0.6711 - accuracy: 0.6003\n",
            "Epoch 3/15\n",
            "40/40 [==============================] - 3s 71ms/step - loss: 0.6496 - accuracy: 0.6748\n",
            "Epoch 4/15\n",
            "40/40 [==============================] - 3s 71ms/step - loss: 0.6244 - accuracy: 0.7237\n",
            "Epoch 5/15\n",
            "40/40 [==============================] - 3s 70ms/step - loss: 0.5976 - accuracy: 0.7465\n",
            "Epoch 6/15\n",
            "40/40 [==============================] - 3s 71ms/step - loss: 0.5720 - accuracy: 0.7563\n",
            "Epoch 7/15\n",
            "40/40 [==============================] - 3s 71ms/step - loss: 0.5495 - accuracy: 0.7621\n",
            "Epoch 8/15\n",
            "40/40 [==============================] - 3s 71ms/step - loss: 0.5305 - accuracy: 0.7661\n",
            "Epoch 9/15\n",
            "40/40 [==============================] - 3s 71ms/step - loss: 0.5152 - accuracy: 0.7685\n",
            "Epoch 10/15\n",
            "40/40 [==============================] - 3s 70ms/step - loss: 0.5029 - accuracy: 0.7710\n",
            "Epoch 11/15\n",
            "40/40 [==============================] - 3s 71ms/step - loss: 0.4931 - accuracy: 0.7733\n",
            "Epoch 12/15\n",
            "40/40 [==============================] - 3s 72ms/step - loss: 0.4852 - accuracy: 0.7760\n",
            "Epoch 13/15\n",
            "40/40 [==============================] - 3s 71ms/step - loss: 0.4788 - accuracy: 0.7775\n",
            "Epoch 14/15\n",
            "40/40 [==============================] - 3s 71ms/step - loss: 0.4736 - accuracy: 0.7793\n",
            "Epoch 15/15\n",
            "40/40 [==============================] - 3s 70ms/step - loss: 0.4692 - accuracy: 0.7810\n"
          ]
        },
        {
          "output_type": "execute_result",
          "data": {
            "text/plain": [
              "<keras.callbacks.History at 0x7ff1e7e6c0d0>"
            ]
          },
          "metadata": {},
          "execution_count": 13
        }
      ]
    },
    {
      "cell_type": "markdown",
      "metadata": {
        "id": "c_eZTIxDdWyy"
      },
      "source": [
        "#5. Evaluate Model"
      ]
    },
    {
      "cell_type": "code",
      "metadata": {
        "colab": {
          "base_uri": "https://localhost:8080/"
        },
        "id": "thq5Xh_JeUlo",
        "outputId": "85441af7-57a8-47c4-a0fc-354ffb6fe2a2"
      },
      "source": [
        "# To evaluate the performance of the model, we can simply pass the test to the evaluate method of our model.\n",
        "# To check the test accuracy and loss, execute the script and we can see that we get a test accuracy of 74%\n",
        "# Our training accuaracy was 78%. This means that our model is slightly overfitting on the training set.\n",
        "scores = model.evaluate(X_test, Y_test)\n",
        "# print(\"\\n%s: %.2f%%\" % (model.metrics_names[1], scores[1]*100))"
      ],
      "execution_count": 14,
      "outputs": [
        {
          "output_type": "stream",
          "name": "stdout",
          "text": [
            "625/625 [==============================] - 1s 1ms/step - loss: 0.5151 - accuracy: 0.7410\n"
          ]
        }
      ]
    }
  ]
}